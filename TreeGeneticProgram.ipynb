{
 "cells": [
  {
   "cell_type": "code",
   "execution_count": null,
   "metadata": {},
   "outputs": [],
   "source": [
    "import numpy as np\n",
    "import pandas as pd\n",
    "import random"
   ]
  },
  {
   "cell_type": "code",
   "execution_count": null,
   "metadata": {},
   "outputs": [],
   "source": [
    "class Node():\n",
    "    def __init__(self, data=None, left=None, right=None):\n",
    "        self.data = data \n",
    "        self.left = left\n",
    "        self.right = right\n",
    "\n"
   ]
  },
  {
   "cell_type": "code",
   "execution_count": null,
   "metadata": {},
   "outputs": [],
   "source": [
    "class geneNode(Node):\n",
    "    def __init__(self, minDepth=1, maxDepth=2, functions=[]):\n",
    "        Node.__init__(self)\n",
    "        self.minDepth = minDepth\n",
    "        self.maxDepth = maxDepth\n",
    "        self.functions = functions\n",
    "\n",
    "\n",
    "    def buildRandomTree(self):\n",
    "        \n",
    "        def insertRandomNode(node, depth=0):\n",
    "            \n",
    "            if depth == self.maxDepth:\n",
    "                node.data = random.randint(-1, 1)\n",
    "\n",
    "            elif depth == 0:\n",
    "                node.data = self.functions[random.randint(0, len(self.functions)-1)]\n",
    "\n",
    "            else:            \n",
    "                if random.random() > 0.5:\n",
    "                    node.data = random.randint(-1, 1)\n",
    "                else:\n",
    "                    node.data = self.functions[random.randint(0, len(self.functions)-1)]\n",
    "\n",
    "            if node.data == 0:\n",
    "                node.data = 'x'\n",
    "            elif callable(node.data):  \n",
    "                node.left = geneNode()\n",
    "                node.right = geneNode()\n",
    "                insertRandomNode(node.left, depth=depth+1)\n",
    "                insertRandomNode(node.right, depth=depth+1)\n",
    "\n",
    "        insertRandomNode(self)\n",
    "\n",
    "    def printTree(self, prefix=\"|-\"):\n",
    "        if callable(self.data):\n",
    "            print(prefix, self.data.__name__)\n",
    "        else:\n",
    "            print(prefix, self.data)\n",
    "        if self.left : self.left.printTree(prefix=\"     \"+prefix)\n",
    "        if self.right : self.right.printTree(prefix=\"     \"+prefix)\n",
    "\n",
    "    def calculateTree(self, x):\n",
    "        if callable(self.data):\n",
    "            return self.data(self.left.calculateTree(x), self.right.calculateTree(x))\n",
    "        elif self.data == 'x':\n",
    "            return x\n",
    "        else: \n",
    "            return self.data"
   ]
  },
  {
   "cell_type": "code",
   "execution_count": null,
   "metadata": {},
   "outputs": [],
   "source": [
    "def add(x,y): return x+y\n",
    "def sub(x,y): return x-y\n",
    "def mult(x,y): return x*y"
   ]
  },
  {
   "cell_type": "code",
   "execution_count": null,
   "metadata": {},
   "outputs": [],
   "source": [
    "root = geneNode(maxDepth=5, functions=[add, sub, mult])\n"
   ]
  },
  {
   "cell_type": "markdown",
   "metadata": {},
   "source": [
    "# Initialize Population"
   ]
  },
  {
   "cell_type": "code",
   "execution_count": null,
   "metadata": {},
   "outputs": [],
   "source": [
    "def initializePopulation():\n",
    "    \n",
    "    \n",
    "    pass"
   ]
  },
  {
   "cell_type": "markdown",
   "metadata": {},
   "source": [
    "# Evaluation and Selection"
   ]
  },
  {
   "cell_type": "code",
   "execution_count": null,
   "metadata": {},
   "outputs": [],
   "source": [
    "def fitnessFunction(solution):\n",
    "    pass"
   ]
  },
  {
   "cell_type": "code",
   "execution_count": null,
   "metadata": {},
   "outputs": [],
   "source": [
    "#Roulette Wheel Selection (others include Rank method and Tournament Size)\n",
    "def evaluatePopulation(population):\n",
    "    pass\n",
    "\n",
    "def RouletteWheel(population, weightedFitness):\n",
    "    pass"
   ]
  },
  {
   "cell_type": "markdown",
   "metadata": {},
   "source": [
    "# Combination and Mutation"
   ]
  },
  {
   "cell_type": "code",
   "execution_count": null,
   "metadata": {},
   "outputs": [],
   "source": [
    "def crossover(solution1, solution2):\n",
    "    pass"
   ]
  },
  {
   "cell_type": "code",
   "execution_count": null,
   "metadata": {},
   "outputs": [],
   "source": [
    "def mutation():\n",
    "    pass"
   ]
  },
  {
   "cell_type": "markdown",
   "metadata": {},
   "source": [
    "# Main"
   ]
  },
  {
   "cell_type": "code",
   "execution_count": null,
   "metadata": {},
   "outputs": [],
   "source": [
    "def add(x,y): return x+y\n",
    "def sub(x,y): return x-y\n",
    "def mult(x,y): return x*y"
   ]
  },
  {
   "cell_type": "code",
   "execution_count": null,
   "metadata": {},
   "outputs": [],
   "source": [
    "generations = 200"
   ]
  },
  {
   "cell_type": "code",
   "execution_count": null,
   "metadata": {},
   "outputs": [],
   "source": [
    "#INITIALIZE population\n",
    "\n",
    "\n",
    "#EVALUATE initial poplulation\n",
    "\n",
    "\n",
    "#Begin Evolution Search\n",
    "for generation in range(generations):\n",
    "\n",
    "    newPopulation = []\n",
    "    for i in range(len(population)):\n",
    "\n",
    "        # SELECT Parents\n",
    "\n",
    "        #RECOMBINE Parents\n",
    "\n",
    "        #MUTATE Offspring\n",
    "\n",
    "\n",
    "    #Evaluate newPopulation\n",
    "\n",
    "    #SELECT Survival\n"
   ]
  },
  {
   "cell_type": "code",
   "execution_count": null,
   "metadata": {},
   "outputs": [],
   "source": [
    "# print(globalBestSolution)"
   ]
  }
 ],
 "metadata": {
  "kernelspec": {
   "display_name": "Python 3",
   "language": "python",
   "name": "python3"
  },
  "language_info": {
   "codemirror_mode": {
    "name": "ipython",
    "version": 3
   },
   "file_extension": ".py",
   "mimetype": "text/x-python",
   "name": "python",
   "nbconvert_exporter": "python",
   "pygments_lexer": "ipython3",
   "version": "3.11.6"
  }
 },
 "nbformat": 4,
 "nbformat_minor": 2
}
