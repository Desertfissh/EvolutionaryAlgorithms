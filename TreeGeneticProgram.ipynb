{
 "cells": [
  {
   "cell_type": "code",
   "execution_count": 7,
   "metadata": {},
   "outputs": [],
   "source": [
    "import numpy as np\n",
    "import pandas as pd\n",
    "import random"
   ]
  },
  {
   "cell_type": "code",
   "execution_count": 8,
   "metadata": {},
   "outputs": [],
   "source": [
    "class Node():\n",
    "    def __init__(self, data=None, left=None, right=None):\n",
    "        self.data = data \n",
    "        self.left = left\n",
    "        self.right = right\n",
    "\n"
   ]
  },
  {
   "cell_type": "code",
   "execution_count": 9,
   "metadata": {},
   "outputs": [],
   "source": [
    "class geneNode(Node):\n",
    "    def __init__(self, minDepth=1, maxDepth=2, functions=[]):\n",
    "        Node.__init__(self)\n",
    "        self.minDepth = minDepth\n",
    "        self.maxDepth = maxDepth\n",
    "        self.functions = functions\n",
    "\n",
    "\n",
    "    def buildRandomTree(self, d=0):\n",
    "        \n",
    "        def insertRandomNode(node, depth=0):\n",
    "            \n",
    "            if depth == self.maxDepth:\n",
    "                node.data = random.randint(-1, 1)\n",
    "\n",
    "            elif depth == 0:\n",
    "                node.data = self.functions[random.randint(0, len(self.functions)-1)]\n",
    "\n",
    "            else:            \n",
    "                if random.random() > 0.5:\n",
    "                    node.data = random.randint(-1, 1)\n",
    "                else:\n",
    "                    node.data = self.functions[random.randint(0, len(self.functions)-1)]\n",
    "\n",
    "            if node.data == 0:\n",
    "                node.data = 'x'\n",
    "            elif callable(node.data):  \n",
    "                node.left = geneNode()\n",
    "                node.right = geneNode()\n",
    "                insertRandomNode(node.left, depth=depth+1)\n",
    "                insertRandomNode(node.right, depth=depth+1)\n",
    "\n",
    "        insertRandomNode(self, depth=d)\n",
    "\n",
    "    def crossOver(self, tree2):\n",
    "        pass\n",
    "\n",
    "\n",
    "    def mutate(self):\n",
    "        \n",
    "        def mutateStep(node, depth=1):\n",
    "            if random.random() < .1:\n",
    "                newTree = geneNode()\n",
    "                newTree.buildRandomTree(depth)\n",
    "                node.left = newTree\n",
    "\n",
    "            elif random.random() < .1:\n",
    "                newTree = geneNode()\n",
    "                newTree.buildRandomTree(depth)\n",
    "                node.right = newTree\n",
    "            else:\n",
    "                if callable(node.left):\n",
    "                    mutateStep(node.left, depth=depth+1)\n",
    "                if callable(node.right):\n",
    "                    mutateStep(node.right, depth=depth+1)\n",
    "\n",
    "        mutateStep(self)\n",
    "\n",
    "\n",
    "    def printTree(self, prefix=\"|-\"):\n",
    "        if callable(self.data):\n",
    "            print(prefix, self.data.__name__)\n",
    "        else:\n",
    "            print(prefix, self.data)\n",
    "        if self.left : self.left.printTree(prefix=\"     \"+prefix)\n",
    "        if self.right : self.right.printTree(prefix=\"     \"+prefix)\n",
    "\n",
    "    def calculateTree(self, x):\n",
    "        if callable(self.data):\n",
    "            return self.data(self.left.calculateTree(x), self.right.calculateTree(x))\n",
    "        elif self.data == 'x':\n",
    "            return x\n",
    "        else: \n",
    "            return self.data"
   ]
  },
  {
   "cell_type": "markdown",
   "metadata": {},
   "source": [
    "# Test"
   ]
  },
  {
   "cell_type": "code",
   "execution_count": 10,
   "metadata": {},
   "outputs": [],
   "source": [
    "def add(x,y): return x+y\n",
    "def sub(x,y): return x-y\n",
    "def mult(x,y): return x*y"
   ]
  },
  {
   "cell_type": "code",
   "execution_count": 11,
   "metadata": {},
   "outputs": [
    {
     "name": "stdout",
     "output_type": "stream",
     "text": [
      "|- mult\n",
      "     |- x\n",
      "     |- mult\n",
      "          |- add\n",
      "               |- sub\n",
      "                    |- sub\n",
      "                         |- x\n",
      "                         |- 1\n",
      "                    |- x\n",
      "               |- 1\n",
      "          |- x\n",
      "|- mult\n",
      "     |- x\n",
      "     |- 1\n"
     ]
    }
   ],
   "source": [
    "treeRoot = geneNode(maxDepth=5, functions=[add, sub, mult])\n",
    "treeRoot.buildRandomTree()\n",
    "treeRoot.printTree()\n",
    "treeRoot.mutate()\n",
    "treeRoot.printTree()"
   ]
  },
  {
   "cell_type": "markdown",
   "metadata": {},
   "source": [
    "# Initialize Population"
   ]
  },
  {
   "cell_type": "code",
   "execution_count": null,
   "metadata": {},
   "outputs": [],
   "source": [
    "def initializePopulation(popSize, func=[]):\n",
    "    \n",
    "    population = []\n",
    "\n",
    "    for i in range(popSize):\n",
    "    \n",
    "        treeRoot = geneNode(maxDepth=5, functions=func)\n",
    "        treeRoot.buildRandomTree()\n",
    "        population.append(treeRoot)\n",
    "\n",
    "    return population"
   ]
  },
  {
   "cell_type": "markdown",
   "metadata": {},
   "source": [
    "# Evaluation and Selection"
   ]
  },
  {
   "cell_type": "code",
   "execution_count": null,
   "metadata": {},
   "outputs": [],
   "source": [
    "def fitnessFunction(x):\n",
    "    return x*x*x*x + x*x*x + x*x + x + 1\n",
    "    "
   ]
  },
  {
   "cell_type": "code",
   "execution_count": null,
   "metadata": {},
   "outputs": [],
   "source": [
    "#Roulette Wheel Selection (others include Rank method and Tournament Size)\n",
    "def evaluatePopulation(population, point, testValues):\n",
    "    \n",
    "    populationFitness = []\n",
    "    for individual in population:\n",
    "        \n",
    "        trialValues = []\n",
    "        for p in point:\n",
    "            trialValues.append(individual.calculateTree(p))\n",
    "        \n",
    "        fitness = sum([ (trialValues[i] - testValues[i]) for i in range(len(testValues)) ])\n",
    "        populationFitness.append(fitness)\n",
    "\n",
    "    return populationFitness\n"
   ]
  },
  {
   "cell_type": "code",
   "execution_count": null,
   "metadata": {},
   "outputs": [],
   "source": [
    "def selection():\n",
    "    pass"
   ]
  },
  {
   "cell_type": "markdown",
   "metadata": {},
   "source": [
    "# Main"
   ]
  },
  {
   "cell_type": "code",
   "execution_count": null,
   "metadata": {},
   "outputs": [],
   "source": [
    "generations = 200\n",
    "popSize = 5"
   ]
  },
  {
   "cell_type": "code",
   "execution_count": null,
   "metadata": {},
   "outputs": [],
   "source": [
    "def add(x,y): return x+y\n",
    "def sub(x,y): return x-y\n",
    "def mult(x,y): return x*y"
   ]
  },
  {
   "cell_type": "code",
   "execution_count": null,
   "metadata": {},
   "outputs": [
    {
     "name": "stdout",
     "output_type": "stream",
     "text": [
      "|- mult\n",
      "     |- mult\n",
      "          |- 1\n",
      "          |- add\n",
      "               |- x\n",
      "               |- 1\n",
      "     |- sub\n",
      "          |- sub\n",
      "               |- -1\n",
      "               |- mult\n",
      "                    |- mult\n",
      "                         |- -1\n",
      "                         |- x\n",
      "                    |- 1\n",
      "          |- sub\n",
      "               |- 1\n",
      "               |- 1\n"
     ]
    }
   ],
   "source": [
    "#INITIALIZE population\n",
    "population = initializePopulation(popSize, func=[add, sub, mult])\n",
    "\n",
    "#EVALUATE initial poplulation\n",
    "trainPoints = range(100)\n",
    "trueValues = []\n",
    "for i in trainPoints:\n",
    "    trueValues.append(fitnessFunction(i))\n",
    "\n",
    "populationFitness = evaluatePopulation(population, trainPoints, trueValues)\n",
    "\n",
    "globalBestFitness = max(populationFitness)\n",
    "globalBestSolution = population[populationFitness.index(globalBestFitness)]\n",
    "\n",
    "#Begin Evolution Search\n",
    "for generation in range(generations):\n",
    "\n",
    "    # SELECT Parents\n",
    "    sortFitness = np.argsort(populationFitness)\n",
    "    sortedPopulation = [population[i] for i in sortFitness]\n",
    "\n",
    "    parent1 = population[1]\n",
    "    parent2 = population[2]\n",
    "    offspring = parent1.copy()\n",
    "\n",
    "    newPopulation = []\n",
    "    for i in range(len(population)):\n",
    "\n",
    "        #RECOMBINE Parents\n",
    "        if random.random() <= 0.87:\n",
    "            offspring = crossover(parent1, parent2)\n",
    "\n",
    "        #MUTATE Offspring\n",
    "        if random.random() <= 0.7:\n",
    "            offspring = mutation(offspring)\n",
    "\n",
    "        newPopulation.append(offspring)\n",
    "    \n",
    "    #Evaluate newPopulation\n",
    "    populationFitness = evaluatePopulation(newPopulation)\n",
    "\n",
    "    #SELECT Survival\n",
    "    population = newPopulation"
   ]
  },
  {
   "cell_type": "code",
   "execution_count": null,
   "metadata": {},
   "outputs": [],
   "source": [
    "# print(globalBestSolution)"
   ]
  }
 ],
 "metadata": {
  "kernelspec": {
   "display_name": "Python 3",
   "language": "python",
   "name": "python3"
  },
  "language_info": {
   "codemirror_mode": {
    "name": "ipython",
    "version": 3
   },
   "file_extension": ".py",
   "mimetype": "text/x-python",
   "name": "python",
   "nbconvert_exporter": "python",
   "pygments_lexer": "ipython3",
   "version": "3.11.7"
  }
 },
 "nbformat": 4,
 "nbformat_minor": 2
}
