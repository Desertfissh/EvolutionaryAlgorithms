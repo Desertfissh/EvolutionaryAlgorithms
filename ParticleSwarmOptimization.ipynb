{
 "cells": [
  {
   "cell_type": "code",
   "execution_count": 92,
   "metadata": {},
   "outputs": [],
   "source": [
    "import numpy as np\n",
    "import pandas as pd\n",
    "import random"
   ]
  },
  {
   "cell_type": "markdown",
   "metadata": {},
   "source": [
    "# Initialize Population"
   ]
  },
  {
   "cell_type": "code",
   "execution_count": 93,
   "metadata": {},
   "outputs": [],
   "source": [
    "def initializePopulation(num_particles):\n",
    "    particles = np.random.uniform(-5.12, 5.12, (num_particles, 2))\n",
    "    velocities = np.zeros((num_particles, 2))\n",
    "    return particles, velocities"
   ]
  },
  {
   "cell_type": "markdown",
   "metadata": {},
   "source": [
    "# Evaluation and Selection"
   ]
  },
  {
   "cell_type": "code",
   "execution_count": 94,
   "metadata": {},
   "outputs": [],
   "source": [
    "def fitnessFunction(particle):\n",
    "    \n",
    "    return 20 + sum([xi**2 - 10*np.cos(2*np.pi*xi) for xi in particle])"
   ]
  },
  {
   "cell_type": "code",
   "execution_count": 95,
   "metadata": {},
   "outputs": [],
   "source": [
    "#Roulette Wheel Selection (others include Rank method and Tournament Size)\n",
    "def evaluatePopulation(population):\n",
    "    \n",
    "    fitness = []\n",
    "    for particle in population:\n",
    "        fitness.append(fitnessFunction(particle))\n",
    "\n",
    "    return np.array(fitness)\n",
    "\n"
   ]
  },
  {
   "cell_type": "markdown",
   "metadata": {},
   "source": [
    "# Combination and Mutation"
   ]
  },
  {
   "cell_type": "code",
   "execution_count": 96,
   "metadata": {},
   "outputs": [],
   "source": [
    "def mutateSwarm(particles, velocities, bestPositions, globalBest):\n",
    "    newParticles = particles.copy()\n",
    "    r1 = np.random.uniform(0, 1, (len(particles), 2))\n",
    "    r2 = np.random.uniform(0, 1, (len(particles), 2))\n",
    "    velocities = 0.8 * velocities + .1 * r1 * (bestPositions - particles) + .1 * r2 * (globalBest - particles)\n",
    "    newParticles += velocities\n",
    "\n",
    "    return newParticles, velocities"
   ]
  },
  {
   "cell_type": "markdown",
   "metadata": {},
   "source": [
    "# Main"
   ]
  },
  {
   "cell_type": "code",
   "execution_count": 97,
   "metadata": {},
   "outputs": [],
   "source": [
    "generations = 200"
   ]
  },
  {
   "cell_type": "code",
   "execution_count": 98,
   "metadata": {},
   "outputs": [
    {
     "name": "stdout",
     "output_type": "stream",
     "text": [
      "9.259111793208346\n"
     ]
    }
   ],
   "source": [
    "#INITIALIZE population\n",
    "population, velocities = initializePopulation(30)\n",
    "\n",
    "#EVALUATE initial poplulation\n",
    "bestPositions = population.copy()\n",
    "bestFitness = evaluatePopulation(population)\n",
    "\n",
    "bestIndex = np.argmin(bestFitness)\n",
    "globalBestPosition = bestPositions[bestIndex]\n",
    "\n",
    "#Begin Evolution Search\n",
    "for generation in range(generations):\n",
    "    # SELECT Parents    \n",
    "    #RECOMBINE Parents  \n",
    "    \n",
    "    #MUTATE Offspring\n",
    "    population, velocities = mutateSwarm(population, velocities, bestPositions, globalBestPosition)\n",
    "\n",
    "\n",
    "    #Evaluate newPopulation\n",
    "    populationFitness = evaluatePopulation(population)\n",
    "    \n",
    "    improvedIndex = np.where(populationFitness < bestFitness)\n",
    "    bestPositions[improvedIndex] = population[improvedIndex]\n",
    "    bestFitness[improvedIndex] = populationFitness[improvedIndex]\n",
    "    \n",
    "\n",
    "    if np.min(populationFitness) < globalBestFitness:\n",
    "        globalBestPosition  = bestPositions[np.argmin(bestFitness)]\n",
    "        globalBestFitness = np.min(bestFitness)\n",
    "\n",
    "    #SELECT Survival\n"
   ]
  },
  {
   "cell_type": "code",
   "execution_count": 99,
   "metadata": {},
   "outputs": [
    {
     "name": "stdout",
     "output_type": "stream",
     "text": [
      "[ 2.37371632e-09 -7.38256775e-10] 0.0\n"
     ]
    }
   ],
   "source": [
    "print(globalBestPosition, globalBestFitness)"
   ]
  }
 ],
 "metadata": {
  "kernelspec": {
   "display_name": "Python 3",
   "language": "python",
   "name": "python3"
  },
  "language_info": {
   "codemirror_mode": {
    "name": "ipython",
    "version": 3
   },
   "file_extension": ".py",
   "mimetype": "text/x-python",
   "name": "python",
   "nbconvert_exporter": "python",
   "pygments_lexer": "ipython3",
   "version": "3.11.6"
  }
 },
 "nbformat": 4,
 "nbformat_minor": 2
}
