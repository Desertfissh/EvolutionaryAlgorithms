{
 "cells": [
  {
   "cell_type": "code",
   "execution_count": 1,
   "metadata": {},
   "outputs": [],
   "source": [
    "import numpy as np\n",
    "import pandas as pd\n",
    "import random"
   ]
  },
  {
   "cell_type": "code",
   "execution_count": 2,
   "metadata": {},
   "outputs": [],
   "source": [
    "cities = ['A', 'B', 'C', 'D', 'E']\n"
   ]
  },
  {
   "cell_type": "code",
   "execution_count": 3,
   "metadata": {},
   "outputs": [],
   "source": [
    "distances = [[ 0.00, 28.02, 17.12, 27.46, 46.07],\n",
    " [28.02,  0.00, 34.00, 25.55, 25.55],\n",
    " [17.12, 34.00,  0.00, 18.03, 57.38],\n",
    " [27.46, 25.55, 18.03,  0.00, 51.11],\n",
    " [46.07, 25.55, 57.38, 51.11,  0.00]]"
   ]
  },
  {
   "cell_type": "markdown",
   "metadata": {},
   "source": [
    "# Initialize Population"
   ]
  },
  {
   "cell_type": "code",
   "execution_count": 4,
   "metadata": {},
   "outputs": [],
   "source": [
    "def initialize():\n",
    "    population = []\n",
    "    for i in range(10):\n",
    "        randomSolution = cities.copy()\n",
    "        random.shuffle(randomSolution)\n",
    "        population.append(randomSolution)\n",
    "    return np.array(population)"
   ]
  },
  {
   "cell_type": "markdown",
   "metadata": {},
   "source": [
    "# Evaluation and Selection"
   ]
  },
  {
   "cell_type": "code",
   "execution_count": 5,
   "metadata": {},
   "outputs": [],
   "source": [
    "def fitnessFunction(solution):\n",
    "    totalDistance = 0\n",
    "    for i in range(len(solution)-1):\n",
    "        totalDistance += distances[cities.index(solution[i])][cities.index(solution[i+1])]\n",
    "\n",
    "    return totalDistance"
   ]
  },
  {
   "cell_type": "code",
   "execution_count": 6,
   "metadata": {},
   "outputs": [],
   "source": [
    "#Roulette Wheel Selection (others include Rank method and Tournament Size)\n",
    "def evaluatePopulation(population):\n",
    "    result = {}\n",
    "    fitnessValues = []\n",
    "    solutions = []\n",
    "\n",
    "    for solution in population:\n",
    "        fitnessValues.append(fitnessFunction(solution))\n",
    "        solutions.append(solution)\n",
    "\n",
    "    result['fitnessValues'] = fitnessValues\n",
    "    centeredValues = [np.max(list(result[\"fitnessValues\"]))-i for i in list(result[\"fitnessValues\"])]\n",
    "    result[\"weightedFitness\"]  = [i/sum(centeredValues) for i in centeredValues]\n",
    "    result[\"solution\"] = np.array(solutions)\n",
    "\n",
    "    return result\n",
    "\n",
    "\n",
    "def RouletteWheel(population):\n",
    "    \n",
    "    evaluatedPopulation = evaluatePopulation(population)\n",
    "    \n",
    "    while (True):\n",
    "        randomIndex = random.randint(0, len(population)-1)\n",
    "        randomChance = evaluatedPopulation['weightedFitness'][randomIndex]\n",
    "\n",
    "        if random.random() <= randomChance:\n",
    "            pickedSolution = evaluatedPopulation['solution'][randomIndex]\n",
    "            break\n",
    "    \n",
    "    return pickedSolution"
   ]
  },
  {
   "cell_type": "markdown",
   "metadata": {},
   "source": [
    "# Combination and Mutation"
   ]
  },
  {
   "cell_type": "code",
   "execution_count": 7,
   "metadata": {},
   "outputs": [],
   "source": [
    "def crossover(solution1, solution2):\n",
    "    n = len(solution1)\n",
    "    child = [np.nan for i in range(n)]\n",
    "    num_els = np.ceil(n*(random.randint(10,90)/100))\n",
    "    str_pnt = random.randint(0, n-2)\n",
    "    end_pnt = n if int(str_pnt+num_els) > n else int(str_pnt+num_els)\n",
    "    blockA = list(solution1[str_pnt:end_pnt])\n",
    "    child[str_pnt:end_pnt] = blockA\n",
    "    for i in range(n):\n",
    "        if list(blockA).count(solution2[i]) == 0:\n",
    "            for j in range(n):\n",
    "                if pd.isna(child[j]):\n",
    "                    child[j] = solution2[i]\n",
    "                    break\n",
    "    return child"
   ]
  },
  {
   "cell_type": "code",
   "execution_count": 8,
   "metadata": {},
   "outputs": [],
   "source": [
    "def swap(solution, position1, position2):\n",
    "    \n",
    "    result = solution.copy()\n",
    "    result[position1] = solution[position2]\n",
    "    result[position2] = solution[position1] \n",
    "    return result\n",
    "\n",
    "def swapMutation(solution):\n",
    "    \n",
    "    n = len(solution)\n",
    "    pos_1 = random.randint(0,n-1)\n",
    "    pos_2 = random.randint(0,n-1)\n",
    "    \n",
    "    return swap(solution, pos_1, pos_2)"
   ]
  },
  {
   "cell_type": "markdown",
   "metadata": {},
   "source": [
    "# Main"
   ]
  },
  {
   "cell_type": "code",
   "execution_count": 9,
   "metadata": {},
   "outputs": [],
   "source": [
    "# Create the initial population bag\n",
    "population  = initialize()\n",
    "# Iterate over all generations\n",
    "for generation in range(200):\n",
    "   # Calculate the fitness of elements in population bag\n",
    "   populationFitness = evaluatePopulation(population)\n",
    "   # Best individual so far\n",
    "   bestFit = np.min(populationFitness[\"fitnessValues\"])\n",
    "   bestIndex = populationFitness[\"fitnessValues\"].index(bestFit)\n",
    "   bestSolution  = populationFitness[\"solution\"][bestIndex]\n",
    "   # Check if we have a new best\n",
    "   if generation == 0:\n",
    "      globalBestFit      = bestFit\n",
    "      globalBestSolution = bestSolution\n",
    "   else:\n",
    "      if bestFit <= globalBestFit:\n",
    "         globalBestFit      = bestFit\n",
    "         globalBestSolution = bestSolution\n",
    "   # Create the new population bag\n",
    "   newPopulation = []\n",
    "   for i in range(10):\n",
    "      # Pick 2 parents from the bag\n",
    "      individual1 = RouletteWheel(population)\n",
    "      individual2 = RouletteWheel(population)\n",
    "      new_individual = individual1\n",
    "      # Crossover the parents\n",
    "      if random.random() <= 0.87:\n",
    "         new_element = crossover(individual1, individual2)\n",
    "      # Mutate the child\n",
    "      if random.random() <= 0.7:\n",
    "         new_element = swapMutation(new_element) \n",
    "      # Append the child to the bag\n",
    "      newPopulation.append(new_element)\n",
    "   # Set the new bag as the population bag\n",
    "   population = np.array(newPopulation)"
   ]
  },
  {
   "cell_type": "code",
   "execution_count": 10,
   "metadata": {},
   "outputs": [
    {
     "name": "stdout",
     "output_type": "stream",
     "text": [
      "['E' 'B' 'D' 'C' 'A']\n"
     ]
    }
   ],
   "source": [
    "print(globalBestSolution)"
   ]
  }
 ],
 "metadata": {
  "kernelspec": {
   "display_name": "Python 3",
   "language": "python",
   "name": "python3"
  },
  "language_info": {
   "codemirror_mode": {
    "name": "ipython",
    "version": 3
   },
   "file_extension": ".py",
   "mimetype": "text/x-python",
   "name": "python",
   "nbconvert_exporter": "python",
   "pygments_lexer": "ipython3",
   "version": "3.11.6"
  }
 },
 "nbformat": 4,
 "nbformat_minor": 2
}
