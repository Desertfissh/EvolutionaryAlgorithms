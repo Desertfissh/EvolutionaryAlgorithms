{
 "cells": [
  {
   "cell_type": "code",
   "execution_count": 229,
   "metadata": {},
   "outputs": [],
   "source": [
    "import numpy as np\n",
    "import pandas as pd\n",
    "import random"
   ]
  },
  {
   "cell_type": "code",
   "execution_count": 230,
   "metadata": {},
   "outputs": [],
   "source": [
    "cities = ['A', 'B', 'C', 'D', 'E']\n"
   ]
  },
  {
   "cell_type": "code",
   "execution_count": 231,
   "metadata": {},
   "outputs": [],
   "source": [
    "distances = [[ 0.00, 28.02, 17.12, 27.46, 46.07],\n",
    "            [28.02,  0.00, 34.00, 25.55, 25.55],\n",
    "            [17.12, 34.00,  0.00, 18.03, 57.38],\n",
    "            [27.46, 25.55, 18.03,  0.00, 51.11],\n",
    "            [46.07, 25.55, 57.38, 51.11,  0.00]]"
   ]
  },
  {
   "cell_type": "markdown",
   "metadata": {},
   "source": [
    "# Initialize Population"
   ]
  },
  {
   "cell_type": "code",
   "execution_count": 232,
   "metadata": {},
   "outputs": [],
   "source": [
    "def initializePopulation():\n",
    "    population = []\n",
    "    for i in range(10):\n",
    "        randomSolution = cities.copy()\n",
    "        random.shuffle(randomSolution)\n",
    "        population.append(randomSolution)\n",
    "    return np.array(population)"
   ]
  },
  {
   "cell_type": "markdown",
   "metadata": {},
   "source": [
    "# Evaluation and Selection"
   ]
  },
  {
   "cell_type": "code",
   "execution_count": 233,
   "metadata": {},
   "outputs": [],
   "source": [
    "def fitnessFunction(solution):\n",
    "    totalDistance = 0\n",
    "    for i in range(len(solution)-1):\n",
    "        totalDistance += distances[cities.index(solution[i])][cities.index(solution[i+1])]\n",
    "\n",
    "    return totalDistance"
   ]
  },
  {
   "cell_type": "code",
   "execution_count": 234,
   "metadata": {},
   "outputs": [],
   "source": [
    "#Roulette Wheel Selection (others include Rank method and Tournament Size)\n",
    "def evaluatePopulation(population):\n",
    "\n",
    "    fitnessValues = []\n",
    "    for solution in population:\n",
    "        fitnessValues.append(fitnessFunction(solution))\n",
    "\n",
    "    centeredValues = [np.max(list(fitnessValues))-i for i in list(fitnessValues)]\n",
    "    weightedValues = [i/sum(centeredValues) for i in centeredValues]\n",
    "\n",
    "\n",
    "    return fitnessValues, weightedValues\n",
    "\n",
    "\n",
    "def RouletteWheel(population, weightedFitness):\n",
    "    \n",
    "    while (True):\n",
    "        randomIndex = random.randint(0, len(population)-1)\n",
    "        randomChance = weightedFitness[randomIndex]\n",
    "        \n",
    "        if random.random() <= randomChance:\n",
    "            pickedSolution = population[randomIndex]\n",
    "            break\n",
    "    \n",
    "    return pickedSolution"
   ]
  },
  {
   "cell_type": "markdown",
   "metadata": {},
   "source": [
    "# Combination and Mutation"
   ]
  },
  {
   "cell_type": "code",
   "execution_count": 235,
   "metadata": {},
   "outputs": [],
   "source": [
    "def crossover(solution1, solution2):\n",
    "    n = len(solution1)\n",
    "    num_els = np.ceil(n*(random.randint(10,90)/100))\n",
    "\n",
    "    child = [np.nan for i in range(n)]\n",
    "    str_pnt = random.randint(0, n-2)\n",
    "    end_pnt = n if int(str_pnt+num_els) > n else int(str_pnt+num_els)\n",
    "    blockA = list(solution1[str_pnt:end_pnt])\n",
    "    child[str_pnt:end_pnt] = blockA\n",
    "    \n",
    "    for i in range(n):\n",
    "        if list(blockA).count(solution2[i]) == 0:\n",
    "            for j in range(n):\n",
    "                if pd.isna(child[j]):\n",
    "                    child[j] = solution2[i]\n",
    "                    break\n",
    "    return child"
   ]
  },
  {
   "cell_type": "code",
   "execution_count": 236,
   "metadata": {},
   "outputs": [],
   "source": [
    "def swap(solution, position1, position2):\n",
    "    \n",
    "    result = solution.copy()\n",
    "    result[position1] = solution[position2]\n",
    "    result[position2] = solution[position1] \n",
    "    return result\n",
    "\n",
    "def swapMutation(solution):\n",
    "    \n",
    "    n = len(solution)\n",
    "    pos_1 = random.randint(0,n-1)\n",
    "    pos_2 = random.randint(0,n-1)\n",
    "    \n",
    "    return swap(solution, pos_1, pos_2)"
   ]
  },
  {
   "cell_type": "markdown",
   "metadata": {},
   "source": [
    "# Main"
   ]
  },
  {
   "cell_type": "code",
   "execution_count": 237,
   "metadata": {},
   "outputs": [],
   "source": [
    "generations = 200"
   ]
  },
  {
   "cell_type": "code",
   "execution_count": 238,
   "metadata": {},
   "outputs": [],
   "source": [
    "#INITIALIZE population\n",
    "population = initializePopulation()\n",
    "\n",
    "#EVALUATE initial poplulation\n",
    "populationFitness, weightedFitness = evaluatePopulation(population)\n",
    "globalBestFitness = np.min(populationFitness)\n",
    "bestIndex = populationFitness.index(globalBestFitness)\n",
    "globalBestSolution = population[bestIndex]\n",
    "\n",
    "#Begin Evolution Search\n",
    "for generation in range(generations):\n",
    "\n",
    "    newPopulation = []\n",
    "    for i in range(len(population)):\n",
    "\n",
    "        # SELECT Parents\n",
    "        parent1 = RouletteWheel(population, weightedFitness)\n",
    "        parent2 = RouletteWheel(population, weightedFitness)\n",
    "        offspring = parent1\n",
    "\n",
    "        #RECOMBINE Parents\n",
    "        if random.random() <= .87:\n",
    "            offspring = crossover(parent1, parent2)\n",
    "\n",
    "        #MUTATE Offspring\n",
    "        if random.random() <= .7:\n",
    "            offspring = swapMutation(offspring)\n",
    "\n",
    "        newPopulation.append(offspring)\n",
    "\n",
    "    #Evaluate newPopulation\n",
    "    populationFitness, weiwhtedFitness = evaluatePopulation(newPopulation)\n",
    "\n",
    "    bestFitness = np.min(populationFitness)\n",
    "    bestIndex = populationFitness.index(bestFitness)\n",
    "    bestSolution = newPopulation[bestIndex]\n",
    "\n",
    "    if bestFitness <= globalBestFitness:\n",
    "        globalBestFitness = bestFitness\n",
    "        globalBestSolution = bestSolution\n",
    "\n",
    "    #SELECT Survival\n",
    "    population = newPopulation"
   ]
  },
  {
   "cell_type": "code",
   "execution_count": 239,
   "metadata": {},
   "outputs": [
    {
     "name": "stdout",
     "output_type": "stream",
     "text": [
      "['A', 'C', 'D', 'B', 'E']\n"
     ]
    }
   ],
   "source": [
    "print(globalBestSolution)"
   ]
  }
 ],
 "metadata": {
  "kernelspec": {
   "display_name": "Python 3",
   "language": "python",
   "name": "python3"
  },
  "language_info": {
   "codemirror_mode": {
    "name": "ipython",
    "version": 3
   },
   "file_extension": ".py",
   "mimetype": "text/x-python",
   "name": "python",
   "nbconvert_exporter": "python",
   "pygments_lexer": "ipython3",
   "version": "3.11.6"
  }
 },
 "nbformat": 4,
 "nbformat_minor": 2
}
