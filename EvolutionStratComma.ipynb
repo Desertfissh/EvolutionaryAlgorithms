{
 "cells": [
  {
   "cell_type": "code",
   "execution_count": 123,
   "metadata": {},
   "outputs": [],
   "source": [
    "import numpy as np\n",
    "import pandas as pd\n",
    "import random"
   ]
  },
  {
   "cell_type": "markdown",
   "metadata": {},
   "source": [
    "# Initialize Population"
   ]
  },
  {
   "cell_type": "code",
   "execution_count": 124,
   "metadata": {},
   "outputs": [],
   "source": [
    "def initializePopulation(lamb):\n",
    "    population = []\n",
    "    for _ in range(lamb):\n",
    "        candidate = 2*5*(np.random.rand(2)-.5)\n",
    "        population.append(candidate)\n",
    "    return np.array(population)"
   ]
  },
  {
   "cell_type": "markdown",
   "metadata": {},
   "source": [
    "# Evaluation and Selection"
   ]
  },
  {
   "cell_type": "code",
   "execution_count": 125,
   "metadata": {},
   "outputs": [],
   "source": [
    "def fitnessFunction(solution):\n",
    "    return -20.0 * np.exp(-0.2 * np.sqrt(0.5 * (solution[0]**2 + solution[1]**2))) - np.exp(0.5 * (np.cos(2 * np.pi * solution[0]) + np.cos(2 * np.pi * solution[1]))) + np.e + 20\n",
    "\n",
    "def evaluatePopulation(population):\n",
    "    fitness = []\n",
    "    for solution in population:\n",
    "        fitness.append(fitnessFunction(solution))\n",
    "\n",
    "    return fitness"
   ]
  },
  {
   "cell_type": "markdown",
   "metadata": {},
   "source": [
    "# Addaptation"
   ]
  },
  {
   "cell_type": "code",
   "execution_count": 126,
   "metadata": {},
   "outputs": [],
   "source": [
    "def mutate(offspring, stepsize=.15):\n",
    "    return  offspring.copy() + stepsize * np.random.randn(2)"
   ]
  },
  {
   "cell_type": "markdown",
   "metadata": {},
   "source": [
    "# Main"
   ]
  },
  {
   "cell_type": "code",
   "execution_count": 127,
   "metadata": {},
   "outputs": [],
   "source": [
    "\n",
    "generations=5000\n",
    "\n",
    "lamb = 100\n",
    "mu = 20\n",
    "n_children = int(lamb/mu)\n"
   ]
  },
  {
   "cell_type": "code",
   "execution_count": 128,
   "metadata": {},
   "outputs": [
    {
     "name": "stdout",
     "output_type": "stream",
     "text": [
      "1.713837244820784\n",
      "0.32280312739078454\n",
      "0.08996300872543728\n",
      "0.08122184604879124\n",
      "0.06636711933039052\n",
      "0.05196893359288879\n",
      "0.043687028160587005\n",
      "0.026804288544084898\n"
     ]
    }
   ],
   "source": [
    "#INITIALIZE population\n",
    "population = initializePopulation(lamb, 5)\n",
    "\n",
    "#EVALUATE initial poplulation\n",
    "populationFitness = evaluatePopulation(population)\n",
    "\n",
    "sortIndex = np.argsort(populationFitness)\n",
    "globalBestFitness = populationFitness[sortIndex[0]]\n",
    "globalBestSolution = population[sortIndex[0]]\n",
    "\n",
    "for generation in range(generations):\n",
    "\n",
    "    newPopulation = []\n",
    "    for i in range(mu):\n",
    "\n",
    "        # SELECT Parents\n",
    "        parent = population[sortIndex[i]]\n",
    "        \n",
    "        for _ in range(n_children):\n",
    "            #RECOMBINE Parents\n",
    "\n",
    "            #MUTATE Offspring\n",
    "            offspring = mutate(parent)\n",
    "            \n",
    "            newPopulation.append(offspring)\n",
    "\n",
    "    #Evaluate newPopulation\n",
    "    populationFitness = evaluatePopulation(population)\n",
    "\n",
    "    sortIndex = np.argsort(populationFitness)\n",
    "    if populationFitness[sortIndex[0]] < globalBestFitness:\n",
    "        globalBestFitness = populationFitness[sortIndex[0]]\n",
    "        globalBestSolution = population[sortIndex[0]]\n",
    "        print(globalBestFitness)\n",
    "\n",
    "    #SELECT Survival\n",
    "    population = newPopulation"
   ]
  },
  {
   "cell_type": "code",
   "execution_count": 129,
   "metadata": {},
   "outputs": [
    {
     "name": "stdout",
     "output_type": "stream",
     "text": [
      "[-0.00265574  0.00834298] 0.026804288544084898\n"
     ]
    }
   ],
   "source": [
    "print(globalBestSolution, globalBestFitness)"
   ]
  }
 ],
 "metadata": {
  "kernelspec": {
   "display_name": "Python 3",
   "language": "python",
   "name": "python3"
  },
  "language_info": {
   "codemirror_mode": {
    "name": "ipython",
    "version": 3
   },
   "file_extension": ".py",
   "mimetype": "text/x-python",
   "name": "python",
   "nbconvert_exporter": "python",
   "pygments_lexer": "ipython3",
   "version": "3.11.6"
  }
 },
 "nbformat": 4,
 "nbformat_minor": 2
}
