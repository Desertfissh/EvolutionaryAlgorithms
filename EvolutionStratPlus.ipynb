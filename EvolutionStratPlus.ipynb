{
 "cells": [
  {
   "cell_type": "code",
   "execution_count": 1,
   "metadata": {},
   "outputs": [],
   "source": [
    "import numpy as np\n",
    "import pandas as pd\n",
    "import random"
   ]
  },
  {
   "cell_type": "markdown",
   "metadata": {},
   "source": [
    "# Initialize Population"
   ]
  },
  {
   "cell_type": "code",
   "execution_count": 2,
   "metadata": {},
   "outputs": [],
   "source": [
    "def initializePopulation(lamb, r):\n",
    "    population = []\n",
    "    for _ in range(lamb):\n",
    "        candidate = 2*r*(np.random.rand(2)-.5)\n",
    "        population.append(candidate)\n",
    "    return np.array(population)"
   ]
  },
  {
   "cell_type": "markdown",
   "metadata": {},
   "source": [
    "# Evaluation and Selection"
   ]
  },
  {
   "cell_type": "code",
   "execution_count": 3,
   "metadata": {},
   "outputs": [],
   "source": [
    "def fitnessFunction(solution):\n",
    "    return -20.0 * np.exp(-0.2 * np.sqrt(0.5 * (solution[0]**2 + solution[1]**2))) - np.exp(0.5 * (np.cos(2 * np.pi * solution[0]) + np.cos(2 * np.pi * solution[1]))) + np.e + 20\n",
    "\n",
    "def evaluatePopulation(population):\n",
    "    fitness = []\n",
    "    for solution in population:\n",
    "        fitness.append(fitnessFunction(solution))\n",
    "\n",
    "    return fitness"
   ]
  },
  {
   "cell_type": "markdown",
   "metadata": {},
   "source": [
    "# Addaptation"
   ]
  },
  {
   "cell_type": "code",
   "execution_count": 4,
   "metadata": {},
   "outputs": [],
   "source": [
    "def mutate(offspring, stepsize=.15):\n",
    "    return  offspring.copy() + stepsize * np.random.randn(2)"
   ]
  },
  {
   "cell_type": "markdown",
   "metadata": {},
   "source": [
    "# Main"
   ]
  },
  {
   "cell_type": "code",
   "execution_count": 5,
   "metadata": {},
   "outputs": [],
   "source": [
    "generations=5000\n",
    "mu = 20\n",
    "lamb = 100\n",
    "n_children = int(lamb/mu)"
   ]
  },
  {
   "cell_type": "code",
   "execution_count": 6,
   "metadata": {},
   "outputs": [
    {
     "name": "stdout",
     "output_type": "stream",
     "text": [
      "2.5917148335169458\n",
      "2.588662889375673\n",
      "2.1951470451909927\n",
      "2.16737805040567\n",
      "1.327128124602858\n",
      "0.7809188016040345\n",
      "0.1801441720926249\n",
      "0.11113368201323937\n",
      "0.09784245581817075\n",
      "0.06559940582441115\n",
      "0.03602752849980462\n"
     ]
    }
   ],
   "source": [
    "#INITIALIZE population\n",
    "population = initializePopulation(lamb, 5)\n",
    "\n",
    "#EVALUATE initial poplulation\n",
    "populationFitness = evaluatePopulation(population)\n",
    "\n",
    "sortIndex = np.argsort(populationFitness)\n",
    "globalBestFitness = populationFitness[sortIndex[0]]\n",
    "globalBestSolution = population[sortIndex[0]]\n",
    "\n",
    "for generation in range(generations):\n",
    "\n",
    "    newPopulation = []\n",
    "    for i in range(mu):\n",
    "\n",
    "        # SELECT Parents\n",
    "        parent = population[sortIndex[i]]\n",
    "        newPopulation.append(parent)\n",
    "\n",
    "        for _ in range(n_children):\n",
    "            #RECOMBINE Parents\n",
    "\n",
    "            #MUTATE Offspring\n",
    "            offspring = mutate(parent)\n",
    "            \n",
    "            newPopulation.append(offspring)\n",
    "        \n",
    "\n",
    "    #Evaluate newPopulation\n",
    "    populationFitness = evaluatePopulation(population)\n",
    "\n",
    "    sortIndex = np.argsort(populationFitness)\n",
    "    if populationFitness[sortIndex[0]] < globalBestFitness:\n",
    "        globalBestFitness = populationFitness[sortIndex[0]]\n",
    "        globalBestSolution = population[sortIndex[0]]\n",
    "        print(globalBestFitness)\n",
    "\n",
    "    #SELECT Survival\n",
    "    population = newPopulation"
   ]
  },
  {
   "cell_type": "code",
   "execution_count": 7,
   "metadata": {},
   "outputs": [
    {
     "name": "stdout",
     "output_type": "stream",
     "text": [
      "[-0.00873413  0.00747298] 0.03602752849980462\n"
     ]
    }
   ],
   "source": [
    "print(globalBestSolution, globalBestFitness)"
   ]
  }
 ],
 "metadata": {
  "kernelspec": {
   "display_name": "Python 3",
   "language": "python",
   "name": "python3"
  },
  "language_info": {
   "codemirror_mode": {
    "name": "ipython",
    "version": 3
   },
   "file_extension": ".py",
   "mimetype": "text/x-python",
   "name": "python",
   "nbconvert_exporter": "python",
   "pygments_lexer": "ipython3",
   "version": "3.11.6"
  }
 },
 "nbformat": 4,
 "nbformat_minor": 2
}
