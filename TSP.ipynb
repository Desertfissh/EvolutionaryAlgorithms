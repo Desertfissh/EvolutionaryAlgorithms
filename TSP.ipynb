{
 "cells": [
  {
   "cell_type": "code",
   "execution_count": 29,
   "metadata": {},
   "outputs": [],
   "source": [
    "import pandas as pd\n",
    "import numpy as np\n",
    "import random"
   ]
  },
  {
   "cell_type": "markdown",
   "metadata": {},
   "source": [
    "## Data Collection"
   ]
  },
  {
   "cell_type": "code",
   "execution_count": 30,
   "metadata": {},
   "outputs": [],
   "source": [
    "def symmetricize(m, high_int=None):\n",
    "    \n",
    "    # if high_int not provided, make it equal to 10 times the max value:\n",
    "    if high_int is None:\n",
    "        high_int = round(10*m.max())\n",
    "        \n",
    "    m_bar = m.copy()\n",
    "    np.fill_diagonal(m_bar, 0)\n",
    "    u = np.matrix(np.ones(m.shape) * high_int)\n",
    "    np.fill_diagonal(u, 0)\n",
    "    m_symm_top = np.concatenate((u, np.transpose(m_bar)), axis=1)\n",
    "    m_symm_bottom = np.concatenate((m_bar, u), axis=1)\n",
    "    m_symm = np.concatenate((m_symm_top, m_symm_bottom), axis=0)\n",
    "    \n",
    "    return m_symm.astype(int) # Concorde requires integer weights\n"
   ]
  },
  {
   "cell_type": "code",
   "execution_count": 31,
   "metadata": {},
   "outputs": [],
   "source": [
    "df = pd.read_csv('gb_cities.csv')\n",
    "\n",
    "names = list(df['Place Name'].values)\n",
    "durationMatrix = np.genfromtxt('CaliforniaDurationMatrix.csv', delimiter=',')\n",
    "#durationMatrix = symmetricize(durationMatrix)"
   ]
  },
  {
   "cell_type": "code",
   "execution_count": 32,
   "metadata": {},
   "outputs": [
    {
     "data": {
      "text/plain": [
       "array([[    0., 10892., 30364., ..., 23368., 25227., 19833.],\n",
       "       [10901.,     0., 23625., ..., 16458., 18317., 13094.],\n",
       "       [30326., 23541.,     0., ...,  8835.,  9441., 12260.],\n",
       "       ...,\n",
       "       [23395., 16444.,  9009., ...,     0.,  2790.,  7925.],\n",
       "       [25275., 18324.,  9656., ...,  2859.,     0.,  9627.],\n",
       "       [19854., 13069., 12341., ...,  8003.,  9637.,     0.]])"
      ]
     },
     "execution_count": 32,
     "metadata": {},
     "output_type": "execute_result"
    }
   ],
   "source": [
    "durationMatrix"
   ]
  },
  {
   "cell_type": "markdown",
   "metadata": {},
   "source": [
    "## Evolutionary Algorithm Functions"
   ]
  },
  {
   "cell_type": "code",
   "execution_count": 33,
   "metadata": {},
   "outputs": [],
   "source": [
    "def initialize(populationSize):\n",
    "    population = []\n",
    "    for i in range(populationSize):\n",
    "        randomSolution = names.copy()\n",
    "        random.shuffle(randomSolution)\n",
    "        population.append(randomSolution)\n",
    "    return np.array(population)"
   ]
  },
  {
   "cell_type": "code",
   "execution_count": 34,
   "metadata": {},
   "outputs": [],
   "source": [
    "def fitnessFunction(solution):\n",
    "    totalDistance = 0\n",
    "    for i in range(len(solution)-1):\n",
    "        totalDistance += durationMatrix[names.index(solution[i])][names.index(solution[i+1])]\n",
    "\n",
    "    return totalDistance"
   ]
  },
  {
   "cell_type": "code",
   "execution_count": 35,
   "metadata": {},
   "outputs": [],
   "source": [
    "def evaluatePopulation(population):\n",
    "    result = {}\n",
    "    fitnessValues = []\n",
    "    solutions = []\n",
    "\n",
    "    for solution in population:\n",
    "        fitnessValues.append(fitnessFunction(solution))\n",
    "        solutions.append(solution)\n",
    "\n",
    "    result['fitnessValues'] = fitnessValues\n",
    "    centeredValues = [np.max(list(result[\"fitnessValues\"]))-i for i in list(result[\"fitnessValues\"])]\n",
    "    result[\"weightedFitness\"]  = [i/sum(centeredValues) for i in centeredValues]\n",
    "    result[\"solution\"] = np.array(solutions)\n",
    "\n",
    "    return result\n",
    "\n",
    "\n",
    "def RouletteWheel(population):\n",
    "    \n",
    "    evaluatedPopulation = evaluatePopulation(population)\n",
    "    \n",
    "    while (True):\n",
    "        randomIndex = random.randint(0, len(population)-1)\n",
    "        randomChance = evaluatedPopulation['weightedFitness'][randomIndex]\n",
    "\n",
    "        if random.random() <= randomChance:\n",
    "            pickedSolution = evaluatedPopulation['solution'][randomIndex]\n",
    "            break\n",
    "    \n",
    "    return pickedSolution"
   ]
  },
  {
   "cell_type": "code",
   "execution_count": 36,
   "metadata": {},
   "outputs": [],
   "source": [
    "def crossover(solution1, solution2):\n",
    "    n = len(solution1)\n",
    "    child = [np.nan for i in range(n)]\n",
    "    num_els = np.ceil(n*(random.randint(10,90)/100))\n",
    "    str_pnt = random.randint(0, n-2)\n",
    "    end_pnt = n if int(str_pnt+num_els) > n else int(str_pnt+num_els)\n",
    "    blockA = list(solution1[str_pnt:end_pnt])\n",
    "    child[str_pnt:end_pnt] = blockA\n",
    "    for i in range(n):\n",
    "        if list(blockA).count(solution2[i]) == 0:\n",
    "            for j in range(n):\n",
    "                if pd.isna(child[j]):\n",
    "                    child[j] = solution2[i]\n",
    "                    break\n",
    "    return child"
   ]
  },
  {
   "cell_type": "code",
   "execution_count": 37,
   "metadata": {},
   "outputs": [],
   "source": [
    "def swap(solution, position1, position2):\n",
    "    \n",
    "    result = solution.copy()\n",
    "    result[position1] = solution[position2]\n",
    "    result[position2] = solution[position1] \n",
    "    return result\n",
    "\n",
    "def swapMutation(solution):\n",
    "    \n",
    "    n = len(solution)\n",
    "    pos_1 = random.randint(0,n-1)\n",
    "    pos_2 = random.randint(0,n-1)\n",
    "    \n",
    "    return swap(solution, pos_1, pos_2)"
   ]
  },
  {
   "cell_type": "markdown",
   "metadata": {},
   "source": [
    "# Main"
   ]
  },
  {
   "cell_type": "code",
   "execution_count": 38,
   "metadata": {},
   "outputs": [],
   "source": [
    "generations = 200\n",
    "populationSize = 20"
   ]
  },
  {
   "cell_type": "code",
   "execution_count": 39,
   "metadata": {},
   "outputs": [],
   "source": [
    "# Create the initial population bag\n",
    "population  = initialize(populationSize)\n",
    "# Iterate over all generations\n",
    "for generation in range(generations):\n",
    "   # Calculate the fitness of elements in population bag\n",
    "   populationFitness = evaluatePopulation(population)\n",
    "   # Best individual so far\n",
    "   bestFit = np.min(populationFitness[\"fitnessValues\"])\n",
    "   bestIndex = populationFitness[\"fitnessValues\"].index(bestFit)\n",
    "   bestSolution  = populationFitness[\"solution\"][bestIndex]\n",
    "   # Check if we have a new best\n",
    "   if generation == 0:\n",
    "      globalBestFit      = bestFit\n",
    "      globalBestSolution = bestSolution\n",
    "   else:\n",
    "      if bestFit <= globalBestFit:\n",
    "         globalBestFit      = bestFit\n",
    "         globalBestSolution = bestSolution\n",
    "   # Create the new population bag\n",
    "   newPopulation = []\n",
    "   for i in range(populationSize):\n",
    "      # Pick 2 parents from the bag\n",
    "      individual1 = RouletteWheel(population)\n",
    "      individual2 = RouletteWheel(population)\n",
    "      new_individual = individual1\n",
    "      # Crossover the parents\n",
    "      if random.random() <= 0.87:\n",
    "         new_element = crossover(individual1, individual2)\n",
    "      # Mutate the child\n",
    "      if random.random() <= 0.7:\n",
    "         new_element = swapMutation(new_element) \n",
    "      # Append the child to the bag\n",
    "      newPopulation.append(new_element)\n",
    "   # Set the new bag as the population bag\n",
    "   population = np.array(newPopulation)"
   ]
  },
  {
   "cell_type": "code",
   "execution_count": 40,
   "metadata": {},
   "outputs": [
    {
     "name": "stdout",
     "output_type": "stream",
     "text": [
      "['Derry' 'Lisburn' 'Belfast' 'St.Albans' 'Eastbourne' 'Oxford' 'York'\n",
      " 'Perth' 'Cambridge' 'Portsmouth' 'Wells' 'Exeter' 'Solihull' 'Rugby'\n",
      " 'Leicester' 'Basildon' 'Folkestone' 'London' 'Chesterfield' 'Bath'\n",
      " 'Salisbury' 'Northampton' 'Canterbury' 'Chippenham' 'Derby' 'Ripon'\n",
      " 'Truro' 'Bristol' 'Plymouth' 'Chelmsford' 'Brighton & Hove' 'Chichester'\n",
      " 'Sutton Coldfield' 'Gloucester' 'Manchester' 'Salford' 'Southampton'\n",
      " 'Lincoln' 'Gravesend' 'Swindon' 'Winchester' 'Wolverhampton' 'Lichfield'\n",
      " 'Swansea' 'Worcester' 'Cardiff' 'Sunderland' 'Bedford' 'Birmingham'\n",
      " 'Sheffield' 'Hereford' 'St. Davids' 'Carlisle' 'Leeds' 'Ely' 'Hastings'\n",
      " 'Harlow' 'Lancaster' 'Coventry' 'Wakefield' 'Stoke-on-Trent' 'Chester'\n",
      " 'Liverpool' 'Nottingham' 'Hull' 'Bradford' 'Peterborough'\n",
      " 'Newcastle Upon Tyne' 'Edinburgh' 'Glasgow' 'Ayr' 'Preston' 'Durham'\n",
      " 'Dundee' 'Elgin' 'Aberdeen' 'Inverness' 'Newry' 'Londonderry']\n"
     ]
    }
   ],
   "source": [
    "print(globalBestSolution)"
   ]
  }
 ],
 "metadata": {
  "kernelspec": {
   "display_name": "Python 3",
   "language": "python",
   "name": "python3"
  },
  "language_info": {
   "codemirror_mode": {
    "name": "ipython",
    "version": 3
   },
   "file_extension": ".py",
   "mimetype": "text/x-python",
   "name": "python",
   "nbconvert_exporter": "python",
   "pygments_lexer": "ipython3",
   "version": "3.11.6"
  }
 },
 "nbformat": 4,
 "nbformat_minor": 2
}
